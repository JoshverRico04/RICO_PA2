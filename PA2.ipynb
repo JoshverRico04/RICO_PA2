{
 "cells": [
  {
   "cell_type": "markdown",
   "id": "80865b6a-5695-4f22-b78c-a5afc450f317",
   "metadata": {},
   "source": [
    "# NORMALIZATION PROBLEM"
   ]
  },
  {
   "cell_type": "code",
   "execution_count": 1,
   "id": "6e2f59ef-790b-4cd8-a6e3-8e3190a0b383",
   "metadata": {},
   "outputs": [],
   "source": [
    "import numpy as np"
   ]
  },
  {
   "cell_type": "code",
   "execution_count": 2,
   "id": "b8b7a84a-6f29-42df-8964-eece180e8b8d",
   "metadata": {},
   "outputs": [
    {
     "name": "stdout",
     "output_type": "stream",
     "text": [
      "[[88 44 80 28 73]\n",
      " [49 53  8  8 10]\n",
      " [55 18 10 61  1]\n",
      " [97 58 12 24 69]\n",
      " [ 7 85 90 81 43]]\n"
     ]
    }
   ],
   "source": [
    "X = np.random.randint(1,100, size = (5,5))\n",
    "print(X)"
   ]
  },
  {
   "cell_type": "code",
   "execution_count": 3,
   "id": "92ef7369-f53c-4029-8a9c-d8b0bfdd60fb",
   "metadata": {},
   "outputs": [
    {
     "name": "stdout",
     "output_type": "stream",
     "text": [
      "46.08\n"
     ]
    }
   ],
   "source": [
    "m = X.mean()\n",
    "print(m)"
   ]
  },
  {
   "cell_type": "code",
   "execution_count": 4,
   "id": "559f2ad2-93ec-435b-99b7-a8e042553929",
   "metadata": {},
   "outputs": [
    {
     "name": "stdout",
     "output_type": "stream",
     "text": [
      "30.825859274317075\n"
     ]
    }
   ],
   "source": [
    "s = X.std()\n",
    "print(s)"
   ]
  },
  {
   "cell_type": "code",
   "execution_count": 5,
   "id": "1da5b1ac-c3f0-487d-889b-32a752660a55",
   "metadata": {},
   "outputs": [],
   "source": [
    "N = np.array(())"
   ]
  },
  {
   "cell_type": "code",
   "execution_count": 6,
   "id": "4713bd9f-9b7b-4531-a387-fcaaf0c2348f",
   "metadata": {},
   "outputs": [],
   "source": [
    "for i in X:\n",
    "    for j in i:\n",
    "        z = (j - m) / s\n",
    "        N = np.append(N,z)"
   ]
  },
  {
   "cell_type": "code",
   "execution_count": 7,
   "id": "2cb3d1fc-8b6f-4094-8b28-e671e7e1c6fe",
   "metadata": {},
   "outputs": [
    {
     "name": "stdout",
     "output_type": "stream",
     "text": [
      "[ 1.35989721 -0.06747582  1.10037484 -0.58652055  0.87329277  0.09472566\n",
      "  0.22448685 -1.23532647 -1.23532647 -1.17044588  0.28936744 -0.91092351\n",
      " -1.17044588  0.48400922 -1.46240854  1.65185987  0.38668833 -1.10556529\n",
      " -0.71628174  0.74353158 -1.26776677  1.26257632  1.4247778   1.13281514\n",
      " -0.09991611]\n"
     ]
    }
   ],
   "source": [
    "print(N)"
   ]
  },
  {
   "cell_type": "code",
   "execution_count": 8,
   "id": "cf223c56-e6b7-47ce-b96d-6cb88a52aace",
   "metadata": {},
   "outputs": [],
   "source": [
    "N.resize(5,5)"
   ]
  },
  {
   "cell_type": "code",
   "execution_count": 9,
   "id": "74a4a650-2727-41bf-b4bd-d2b801917669",
   "metadata": {},
   "outputs": [
    {
     "name": "stdout",
     "output_type": "stream",
     "text": [
      "[[ 1.35989721 -0.06747582  1.10037484 -0.58652055  0.87329277]\n",
      " [ 0.09472566  0.22448685 -1.23532647 -1.23532647 -1.17044588]\n",
      " [ 0.28936744 -0.91092351 -1.17044588  0.48400922 -1.46240854]\n",
      " [ 1.65185987  0.38668833 -1.10556529 -0.71628174  0.74353158]\n",
      " [-1.26776677  1.26257632  1.4247778   1.13281514 -0.09991611]]\n"
     ]
    }
   ],
   "source": [
    "print(N)"
   ]
  },
  {
   "cell_type": "code",
   "execution_count": 10,
   "id": "441453cb-25ef-4d7c-8602-7b25afb4949e",
   "metadata": {},
   "outputs": [],
   "source": [
    "np.save('X_normalized', N)"
   ]
  },
  {
   "cell_type": "code",
   "execution_count": 11,
   "id": "ff7b87a8-ca8c-4e18-badf-2bf8bed98d5b",
   "metadata": {},
   "outputs": [
    {
     "name": "stdout",
     "output_type": "stream",
     "text": [
      "[[ 1.35989721 -0.06747582  1.10037484 -0.58652055  0.87329277]\n",
      " [ 0.09472566  0.22448685 -1.23532647 -1.23532647 -1.17044588]\n",
      " [ 0.28936744 -0.91092351 -1.17044588  0.48400922 -1.46240854]\n",
      " [ 1.65185987  0.38668833 -1.10556529 -0.71628174  0.74353158]\n",
      " [-1.26776677  1.26257632  1.4247778   1.13281514 -0.09991611]]\n"
     ]
    }
   ],
   "source": [
    "data1 = np.load('X_normalized.npy')\n",
    "print(data1)"
   ]
  },
  {
   "cell_type": "markdown",
   "id": "6f243460-3f3a-4a74-88f3-bacde3dded2a",
   "metadata": {},
   "source": [
    "# DIVISIBLE BY 3 PROBLEM"
   ]
  },
  {
   "cell_type": "code",
   "execution_count": 12,
   "id": "bbb14b90-cda0-4ada-978e-6f5a3e9a9589",
   "metadata": {},
   "outputs": [],
   "source": [
    "import numpy as np"
   ]
  },
  {
   "cell_type": "code",
   "execution_count": 13,
   "id": "bfc8f3bd-b887-488f-8d07-600654750fc4",
   "metadata": {},
   "outputs": [],
   "source": [
    "arr = np.array((),dtype = int)"
   ]
  },
  {
   "cell_type": "code",
   "execution_count": 14,
   "id": "a948680c-0118-4464-8c56-a94856c429bc",
   "metadata": {},
   "outputs": [],
   "source": [
    "for i in range(1,101):\n",
    "    arr = np.append(arr,i*i)"
   ]
  },
  {
   "cell_type": "code",
   "execution_count": 15,
   "id": "a5f1241e-c6c0-48d9-95ce-81311e587d5c",
   "metadata": {},
   "outputs": [
    {
     "name": "stdout",
     "output_type": "stream",
     "text": [
      "[    1     4     9    16    25    36    49    64    81   100   121   144\n",
      "   169   196   225   256   289   324   361   400   441   484   529   576\n",
      "   625   676   729   784   841   900   961  1024  1089  1156  1225  1296\n",
      "  1369  1444  1521  1600  1681  1764  1849  1936  2025  2116  2209  2304\n",
      "  2401  2500  2601  2704  2809  2916  3025  3136  3249  3364  3481  3600\n",
      "  3721  3844  3969  4096  4225  4356  4489  4624  4761  4900  5041  5184\n",
      "  5329  5476  5625  5776  5929  6084  6241  6400  6561  6724  6889  7056\n",
      "  7225  7396  7569  7744  7921  8100  8281  8464  8649  8836  9025  9216\n",
      "  9409  9604  9801 10000]\n"
     ]
    }
   ],
   "source": [
    "print(arr)"
   ]
  },
  {
   "cell_type": "code",
   "execution_count": 16,
   "id": "1632831b-a644-412a-bb9e-5540968b35ba",
   "metadata": {},
   "outputs": [],
   "source": [
    "arr.resize(10,10)"
   ]
  },
  {
   "cell_type": "code",
   "execution_count": 17,
   "id": "06c07422-b4fa-44a7-885b-e534dc5a2363",
   "metadata": {},
   "outputs": [
    {
     "name": "stdout",
     "output_type": "stream",
     "text": [
      "[[    1     4     9    16    25    36    49    64    81   100]\n",
      " [  121   144   169   196   225   256   289   324   361   400]\n",
      " [  441   484   529   576   625   676   729   784   841   900]\n",
      " [  961  1024  1089  1156  1225  1296  1369  1444  1521  1600]\n",
      " [ 1681  1764  1849  1936  2025  2116  2209  2304  2401  2500]\n",
      " [ 2601  2704  2809  2916  3025  3136  3249  3364  3481  3600]\n",
      " [ 3721  3844  3969  4096  4225  4356  4489  4624  4761  4900]\n",
      " [ 5041  5184  5329  5476  5625  5776  5929  6084  6241  6400]\n",
      " [ 6561  6724  6889  7056  7225  7396  7569  7744  7921  8100]\n",
      " [ 8281  8464  8649  8836  9025  9216  9409  9604  9801 10000]]\n"
     ]
    }
   ],
   "source": [
    "print(arr)"
   ]
  },
  {
   "cell_type": "code",
   "execution_count": 18,
   "id": "428de152-fd9e-41c7-8b68-7d600c9f96a7",
   "metadata": {},
   "outputs": [],
   "source": [
    "d3 = np.array((),dtype = int)\n",
    "for i in arr:\n",
    "    for j in i:\n",
    "        if j % 3 == 0:\n",
    "            d3 = np.append(d3,int(j))"
   ]
  },
  {
   "cell_type": "code",
   "execution_count": 19,
   "id": "bd3e3d4d-e550-4d9b-bf3d-7f08c475ceaf",
   "metadata": {},
   "outputs": [
    {
     "name": "stdout",
     "output_type": "stream",
     "text": [
      "[   9   36   81  144  225  324  441  576  729  900 1089 1296 1521 1764\n",
      " 2025 2304 2601 2916 3249 3600 3969 4356 4761 5184 5625 6084 6561 7056\n",
      " 7569 8100 8649 9216 9801]\n"
     ]
    }
   ],
   "source": [
    "print(d3)"
   ]
  },
  {
   "cell_type": "code",
   "execution_count": 20,
   "id": "9df0dab2-c537-4356-9f4a-003a01747ef3",
   "metadata": {},
   "outputs": [],
   "source": [
    "np.save('div_by_3', d3)"
   ]
  },
  {
   "cell_type": "code",
   "execution_count": 21,
   "id": "f49e19e0-e2f4-4e32-bbfc-3e65f81b3314",
   "metadata": {},
   "outputs": [
    {
     "name": "stdout",
     "output_type": "stream",
     "text": [
      "[   9   36   81  144  225  324  441  576  729  900 1089 1296 1521 1764\n",
      " 2025 2304 2601 2916 3249 3600 3969 4356 4761 5184 5625 6084 6561 7056\n",
      " 7569 8100 8649 9216 9801]\n"
     ]
    }
   ],
   "source": [
    "data2 = np.load('div_by_3.npy')\n",
    "print(data2)"
   ]
  },
  {
   "cell_type": "code",
   "execution_count": null,
   "id": "3d95e6c8-f455-4c29-bd6c-d97ad270e697",
   "metadata": {},
   "outputs": [],
   "source": []
  }
 ],
 "metadata": {
  "kernelspec": {
   "display_name": "Python [conda env:base] *",
   "language": "python",
   "name": "conda-base-py"
  },
  "language_info": {
   "codemirror_mode": {
    "name": "ipython",
    "version": 3
   },
   "file_extension": ".py",
   "mimetype": "text/x-python",
   "name": "python",
   "nbconvert_exporter": "python",
   "pygments_lexer": "ipython3",
   "version": "3.13.5"
  }
 },
 "nbformat": 4,
 "nbformat_minor": 5
}
